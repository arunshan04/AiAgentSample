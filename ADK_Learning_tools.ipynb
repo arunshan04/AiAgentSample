{
  "cells": [
    {
      "cell_type": "markdown",
      "metadata": {
        "id": "view-in-github",
        "colab_type": "text"
      },
      "source": [
        "<a href=\"https://colab.research.google.com/github/arunshan04/AiAgentSample/blob/main/ADK_Learning_tools.ipynb\" target=\"_parent\"><img src=\"https://colab.research.google.com/assets/colab-badge.svg\" alt=\"Open In Colab\"/></a>"
      ]
    },
    {
      "cell_type": "markdown",
      "metadata": {
        "id": "oRXAzkz1iuRI"
      },
      "source": [
        "# 🚀 Welcome to Your ADK Adventure - Tools & Memory! 🚀\n",
        "\n",
        "Welcome, Agent Architect! This notebook is your guide to giving your AI agents two essential superpowers: custom tools and conversational memory.\n",
        "\n",
        "By the end of this adventure, you will be able to:\n",
        "\n",
        "- **Build a Foundational Agent**: Create a simple but effective AI agent from scratch using the Google Agent Development Kit (ADK).\n",
        "\n",
        "- **Grant New Skills with Custom Tools**: Teach an agent to perform new tasks by connecting it to external APIs, like a real-time weather service.\n",
        "\n",
        "- **Create a Team of Agents**: Assemble a multi-agent system where a primary agent can delegate specialized tasks to other agents.\n",
        "\n",
        "- **Master Conversational Memory**: Understand the critical role of Sessions in enabling agents to remember previous interactions, handle feedback, and carry on a coherent conversation.\n",
        "\n",
        "\n",
        "Let's get this adventure started!"
      ],
      "id": "oRXAzkz1iuRI"
    },
    {
      "cell_type": "markdown",
      "source": [
        "## Author\n",
        "\n",
        "HI, I'm Qingyue (Annie) Wang, a developer advocate and AI engineer at **Google**, passionate about helping developers build with AI and cloud technologies :)\n",
        "\n",
        "\n",
        "If you have questions with this notebook, contact me on [LinkedIn](https://www.linkedin.com/in/qingyuewang/) , [X](https://twitter.com/qingyuewang) or email anniewangtech0510@Gmail.com\n",
        "\n",
        "\n",
        "```\n",
        "  (\\__/)\n",
        "  (•ㅅ•)\n",
        "  /づ  📚      Enjoy learning AI Agents :)\n",
        "```"
      ],
      "metadata": {
        "id": "P1VUVWpwbscZ"
      },
      "id": "P1VUVWpwbscZ"
    },
    {
      "cell_type": "markdown",
      "source": [
        "\n",
        "-------------\n",
        "### 🎁 🛑 Important Prerequisite: Setup Your Environment! 🛑 🎁\n",
        "-----------------------------------------------------------------------------\n",
        "\n",
        "👉 **Get Your API Key HERE**: https://codelabs.developers.google.com/onramp/instructions#1\n",
        "\n",
        " -----------------------------------------------------------------------------"
      ],
      "metadata": {
        "id": "DWCv6nsXciYT"
      },
      "id": "DWCv6nsXciYT"
    },
    {
      "cell_type": "markdown",
      "source": [
        "```\n",
        " ⬆️  ⬆️  ⬆️  ⬆️  ⬆️  ⬆️  ⬆️  ⬆️  ⬆️  ⬆️  ⬆️  ⬆️  ⬆️  ⬆️  ⬆️\n",
        "   /\\_/\\     /\\_/\\     /\\_/\\      /\\_/\\       /\\_/\\\n",
        "  ( ^_^ )   ( -.- )   ( >_< )   ( =^.^= )    ( o_o )             \n",
        "```\n"
      ],
      "metadata": {
        "id": "kSdmBNXuycsf"
      },
      "id": "kSdmBNXuycsf"
    },
    {
      "cell_type": "markdown",
      "metadata": {
        "id": "4LvyeireiuRK"
      },
      "source": [
        "## Part 0: Setup & Authentication 🔑\n",
        "\n",
        "First things first, let's get all our tools ready. This step installs the necessary libraries and securely configures your Google API key so your agents can access the power of Gemini."
      ],
      "id": "4LvyeireiuRK"
    },
    {
      "cell_type": "code",
      "execution_count": null,
      "metadata": {
        "id": "1wkXA9koiuRK"
      },
      "outputs": [],
      "source": [
        "!pip install google-adk google-generativeai -q\n",
        "\n",
        "# --- Import all necessary libraries for our entire adventure ---\n",
        "import os\n",
        "import re\n",
        "import asyncio\n",
        "from IPython.display import display, Markdown\n",
        "import google.generativeai as genai\n",
        "from google.adk.agents import Agent\n",
        "from google.adk.tools import google_search\n",
        "from google.adk.runners import Runner\n",
        "from google.adk.sessions import InMemorySessionService, Session\n",
        "from google.genai.types import Content, Part\n",
        "from getpass import getpass\n",
        "\n",
        "print(\"✅ All libraries are ready to go!\")"
      ],
      "id": "1wkXA9koiuRK"
    },
    {
      "cell_type": "code",
      "execution_count": null,
      "metadata": {
        "id": "08Xq5kqfiuRK"
      },
      "outputs": [],
      "source": [
        "# --- Securely Configure Your API Key ---\n",
        "\n",
        "# Prompt the user for their API key securely\n",
        "api_key = getpass('Enter your Google API Key: ')\n",
        "\n",
        "# Get Your API Key HERE 👉 https://codelabs.developers.google.com/onramp/instructions#0\n",
        "# Configure the generative AI library with the provided key\n",
        "genai.configure(api_key=api_key)\n",
        "\n",
        "# Set the API key as an environment variable for ADK to use\n",
        "os.environ['GOOGLE_API_KEY'] = api_key\n",
        "\n",
        "print(\"✅ API Key configured successfully! Let the fun begin.\")"
      ],
      "id": "08Xq5kqfiuRK"
    },
    {
      "cell_type": "markdown",
      "metadata": {
        "id": "uE5IqZPniuRL"
      },
      "source": [
        "---\n",
        "## Part 1: Your First Agent - The Day Trip Genie 🧞\n",
        "\n",
        "Meet your first creation! The `day_trip_agent` is a simple but powerful assistant. We're making it a little smarter by teaching it to understand **budget constraints**.\n",
        "\n",
        "* **Agent**: The brain of the operation, defined by its instructions, tools, and the AI model it uses.\n",
        "* **Session**: The conversation history. For this simple agent, it's just a container for a single request-response.\n",
        "* **Runner**: The engine that connects the `Agent` and the `Session` to process your request and get a response."
      ],
      "id": "uE5IqZPniuRL"
    },
    {
      "cell_type": "markdown",
      "source": [
        "```\n",
        "+--------------------------------------------------+\n",
        "|         Spontaneous Day Trip Agent 🤖            |\n",
        "|--------------------------------------------------|\n",
        "|  Model: gemini-2.5-flash                         |\n",
        "|  Description:                                    |\n",
        "|   Generates full-day trip itineraries based on   |\n",
        "|   mood, interests, and budget                    |\n",
        "|--------------------------------------------------|\n",
        "|  🔧 Tools:                                       |\n",
        "|   - Google Search                                |\n",
        "|--------------------------------------------------|\n",
        "|  🧠 Capabilities:                                |\n",
        "|   - Budget Awareness (cheap / splurge)           |\n",
        "|   - Mood Matching (adventurous, relaxing, etc.)  |\n",
        "|   - Real-Time Info (hours, events)               |\n",
        "|   - Morning / Afternoon / Evening plan           |\n",
        "+--------------------------------------------------+\n",
        "\n",
        "            ▲\n",
        "            |\n",
        "    +------------------+\n",
        "    |   User Input     |\n",
        "    |------------------|\n",
        "    |  Mood            |\n",
        "    |  Interests       |\n",
        "    |  Budget          |\n",
        "    +------------------+\n",
        "\n",
        "            |\n",
        "            ▼\n",
        "\n",
        "+--------------------------------------------------+\n",
        "|             Output: Markdown Itinerary           |\n",
        "|--------------------------------------------------|\n",
        "| - Time blocks (Morning / Afternoon / Evening)    |\n",
        "| - Venue names with links and hours               |\n",
        "| - Budget-matching activities                     |\n",
        "+--------------------------------------------------+\n",
        "```\n"
      ],
      "metadata": {
        "id": "vQ-av6Xzv7ry"
      },
      "id": "vQ-av6Xzv7ry"
    },
    {
      "cell_type": "code",
      "execution_count": null,
      "metadata": {
        "id": "BUuIPYuViuRL"
      },
      "outputs": [],
      "source": [
        "# --- Agent Definition ---\n",
        "\n",
        "def create_day_trip_agent():\n",
        "    \"\"\"Create the Spontaneous Day Trip Generator agent\"\"\"\n",
        "    return Agent(\n",
        "        name=\"day_trip_agent\",\n",
        "        model=\"gemini-2.5-flash\",\n",
        "        description=\"Agent specialized in generating spontaneous full-day itineraries based on mood, interests, and budget.\",\n",
        "        instruction=\"\"\"\n",
        "        You are the \"Spontaneous Day Trip\" Generator 🚗 - a specialized AI assistant that creates engaging full-day itineraries.\n",
        "\n",
        "        Your Mission:\n",
        "        Transform a simple mood or interest into a complete day-trip adventure with real-time details, while respecting a budget.\n",
        "\n",
        "        Guidelines:\n",
        "        1. **Budget-Aware**: Pay close attention to budget hints like 'cheap', 'affordable', or 'splurge'. Use Google Search to find activities (free museums, parks, paid attractions) that match the user's budget.\n",
        "        2. **Full-Day Structure**: Create morning, afternoon, and evening activities.\n",
        "        3. **Real-Time Focus**: Search for current operating hours and special events.\n",
        "        4. **Mood Matching**: Align suggestions with the requested mood (adventurous, relaxing, artsy, etc.).\n",
        "\n",
        "        RETURN itinerary in MARKDOWN FORMAT with clear time blocks and specific venue names.\n",
        "        \"\"\",\n",
        "        tools=[google_search]\n",
        "    )\n",
        "\n",
        "day_trip_agent = create_day_trip_agent()\n",
        "print(f\"🧞 Agent '{day_trip_agent.name}' is created and ready for adventure!\")"
      ],
      "id": "BUuIPYuViuRL"
    },
    {
      "cell_type": "code",
      "execution_count": null,
      "metadata": {
        "id": "j5Hq3Q0qiuRL"
      },
      "outputs": [],
      "source": [
        "# --- A Helper Function to Run Our Agents ---\n",
        "# We'll use this function throughout the notebook to make running queries easy.\n",
        "\n",
        "async def run_agent_query(agent: Agent, query: str, session: Session, user_id: str, is_router: bool = False):\n",
        "    \"\"\"Initializes a runner and executes a query for a given agent and session.\"\"\"\n",
        "    print(f\"\\n🚀 Running query for agent: '{agent.name}' in session: '{session.id}'...\")\n",
        "\n",
        "    runner = Runner(\n",
        "        agent=agent,\n",
        "        session_service=session_service,\n",
        "        app_name=agent.name\n",
        "    )\n",
        "\n",
        "    final_response = \"\"\n",
        "    try:\n",
        "        async for event in runner.run_async(\n",
        "            user_id=user_id,\n",
        "            session_id=session.id,\n",
        "            new_message=Content(parts=[Part(text=query)], role=\"user\")\n",
        "        ):\n",
        "            if not is_router:\n",
        "                # Let's see what the agent is thinking!\n",
        "                print(f\"EVENT: {event}\")\n",
        "            if event.is_final_response():\n",
        "                final_response = event.content.parts[0].text\n",
        "    except Exception as e:\n",
        "        final_response = f\"An error occurred: {e}\"\n",
        "\n",
        "    if not is_router:\n",
        "     print(\"\\n\" + \"-\"*50)\n",
        "     print(\"✅ Final Response:\")\n",
        "     display(Markdown(final_response))\n",
        "     print(\"-\"*50 + \"\\n\")\n",
        "\n",
        "    return final_response\n",
        "\n",
        "# --- Initialize our Session Service ---\n",
        "# This one service will manage all the different sessions in our notebook.\n",
        "session_service = InMemorySessionService()\n",
        "my_user_id = \"adk_adventurer_001\""
      ],
      "id": "j5Hq3Q0qiuRL"
    },
    {
      "cell_type": "code",
      "execution_count": null,
      "metadata": {
        "id": "9Sac25P-iuRL"
      },
      "outputs": [],
      "source": [
        "# --- Let's test the Day Trip Genie! ---\n",
        "\n",
        "async def run_day_trip_genie():\n",
        "    # Create a new, single-use session for this query\n",
        "    day_trip_session = await session_service.create_session(\n",
        "        app_name=day_trip_agent.name,\n",
        "        user_id=my_user_id\n",
        "    )\n",
        "\n",
        "    # Note the new budget constraint in the query!\n",
        "    query = \"Plan a relaxing and artsy day trip near Sunnyvale, CA. Keep it affordable!\"\n",
        "    print(f\"🗣️ User Query: '{query}'\")\n",
        "\n",
        "    await run_agent_query(day_trip_agent, query, day_trip_session, my_user_id)\n",
        "\n",
        "await run_day_trip_genie()"
      ],
      "id": "9Sac25P-iuRL"
    },
    {
      "cell_type": "markdown",
      "source": [
        "---\n",
        "## Part 2: Supercharging Agents with Custom Tools 🛠️\n",
        "\n",
        "So far, we've used the powerful built-in `GoogleSearch` tool. But the true power of agents comes from connecting them to your own logic and data sources.\n",
        "\n",
        "This is where **custom tools** come in. Let's explore three patterns for giving your agent new skills, using real-world, practical examples."
      ],
      "metadata": {
        "id": "PEh5VSLFpKwc"
      },
      "id": "PEh5VSLFpKwc"
    },
    {
      "cell_type": "markdown",
      "source": [
        "### 2.1 The Simple `FunctionTool`: Calling a Real-Time Weather API\n",
        "\n",
        "The most direct way to create a tool is by writing a Python function. This is perfect for synchronous tasks like fetching data from an API.\n",
        "\n",
        "**Key Concept:** The function's **docstring** is critical. The ADK uses it as the tool's official description, which the LLM reads to understand its purpose, parameters, and when to use it.\n",
        "\n",
        "In this example, we'll create a tool that calls the **free, public U.S. National Weather Service API** to get a real-time forecast. No API key needed!"
      ],
      "metadata": {
        "id": "XS9r2opkpPQ7"
      },
      "id": "XS9r2opkpPQ7"
    },
    {
      "cell_type": "code",
      "source": [
        "# --- Tool Definition: A function that calls a live public API ---\n",
        "import requests\n",
        "import json\n",
        "\n",
        "# A simple lookup to avoid needing a separate geocoding API for this example\n",
        "LOCATION_COORDINATES = {\n",
        "    \"sunnyvale\": \"37.3688,-122.0363\",\n",
        "    \"san francisco\": \"37.7749,-122.4194\",\n",
        "    \"lake tahoe\": \"39.0968,-120.0324\"\n",
        "}\n",
        "\n",
        "def get_live_weather_forecast(location: str) -> dict:\n",
        "    \"\"\"Gets the current, real-time weather forecast for a specified location in the US.\n",
        "\n",
        "    Args:\n",
        "        location: The city name, e.g., \"San Francisco\".\n",
        "\n",
        "    Returns:\n",
        "        A dictionary containing the temperature and a detailed forecast.\n",
        "    \"\"\"\n",
        "    print(f\"🛠️ TOOL CALLED: get_live_weather_forecast(location='{location}')\")\n",
        "\n",
        "    # Find coordinates for the location\n",
        "    normalized_location = location.lower()\n",
        "    coords_str = None\n",
        "    for key, val in LOCATION_COORDINATES.items():\n",
        "        if key in normalized_location:\n",
        "            coords_str = val\n",
        "            break\n",
        "    if not coords_str:\n",
        "        return {\"status\": \"error\", \"message\": f\"I don't have coordinates for {location}.\"}\n",
        "\n",
        "    try:\n",
        "        # NWS API requires 2 steps: 1. Get the forecast URL from the coordinates.\n",
        "        points_url = f\"https://api.weather.gov/points/{coords_str}\"\n",
        "        headers = {\"User-Agent\": \"ADK Example Notebook\"}\n",
        "        points_response = requests.get(points_url, headers=headers)\n",
        "        points_response.raise_for_status() # Raise an exception for bad status codes\n",
        "        forecast_url = points_response.json()['properties']['forecast']\n",
        "\n",
        "        # 2. Get the actual forecast from the URL.\n",
        "        forecast_response = requests.get(forecast_url, headers=headers)\n",
        "        forecast_response.raise_for_status()\n",
        "\n",
        "        # Extract the relevant forecast details\n",
        "        current_period = forecast_response.json()['properties']['periods'][0]\n",
        "        return {\n",
        "            \"status\": \"success\",\n",
        "            \"temperature\": f\"{current_period['temperature']}°{current_period['temperatureUnit']}\",\n",
        "            \"forecast\": current_period['detailedForecast']\n",
        "        }\n",
        "    except requests.exceptions.RequestException as e:\n",
        "        return {\"status\": \"error\", \"message\": f\"API request failed: {e}\"}\n",
        "\n",
        "# --- Agent Definition: An agent that USES the new tool ---\n",
        "\n",
        "weather_agent = Agent(\n",
        "    name=\"weather_aware_planner\",\n",
        "    model=\"gemini-2.5-flash\",\n",
        "    description=\"A trip planner that checks the real-time weather before making suggestions.\",\n",
        "    instruction=\"You are a cautious trip planner. Before suggesting any outdoor activities, you MUST use the `get_live_weather_forecast` tool to check conditions. Incorporate the live weather details into your recommendation.\",\n",
        "    tools=[get_live_weather_forecast]\n",
        ")\n",
        "\n",
        "print(f\"🌦️ Agent '{weather_agent.name}' is created and can now call a live weather API!\")"
      ],
      "metadata": {
        "id": "9onw-v48pQT6"
      },
      "id": "9onw-v48pQT6",
      "execution_count": null,
      "outputs": []
    },
    {
      "cell_type": "code",
      "source": [
        "# --- Let's test the Weather-Aware Planner ---\n",
        "\n",
        "async def run_weather_planner_test():\n",
        "    weather_session = await session_service.create_session(app_name=weather_agent.name, user_id=my_user_id)\n",
        "    query = \"I want to go hiking near Lake Tahoe, what's the weather like?\"\n",
        "    print(f\"🗣️ User Query: '{query}'\")\n",
        "    await run_agent_query(weather_agent, query, weather_session, my_user_id)\n",
        "\n",
        "await run_weather_planner_test()"
      ],
      "metadata": {
        "id": "wn7G7Ub3pbBL"
      },
      "id": "wn7G7Ub3pbBL",
      "execution_count": null,
      "outputs": []
    },
    {
      "cell_type": "markdown",
      "source": [
        "## 2.2 The Agent-as-a-Tool: Consulting a Specialist 🧑‍🍳\n",
        "\n",
        "Why build one agent that does everything when you can build a **team of specialist agents?** The **Agent-as-a-Tool** pattern allows one agent to delegate a task to another agent.\n",
        "\n",
        "**Key Concept:** This is different from a sub-agent. When Agent A calls Agent B as a tool, Agent B's response is passed **back to Agent A**. Agent A then uses that information to form its own final response to the user. It's a powerful way to compose complex behaviors from simpler, focused, and reusable agents."
      ],
      "metadata": {
        "id": "F1abEaq5pyt4"
      },
      "id": "F1abEaq5pyt4"
    },
    {
      "cell_type": "markdown",
      "source": [
        "### How It Works\n",
        "\n",
        "Our top-level agent, the `trip_data_concierge_agent`, acts as the **Orchestrator**. It has two tools at its disposal:\n",
        "\n",
        "1.  `call_db_agent`: A function that internally calls our `db_agent` to fetch raw data.\n",
        "2.  `call_concierge_agent`: A function that calls the `concierge_agent`.\n",
        "\n",
        "The `concierge_agent` itself has a tool: the `food_critic_agent`.\n",
        "\n",
        "The flow for a complex query is:\n",
        "\n",
        "1.  **User** asks the `trip_data_concierge_agent` for a hotel and a nearby restaurant.\n",
        "2.  The **Orchestrator** first calls `call_db_agent` to get hotel data.\n",
        "3.  The data is saved in `tool_context.state`.\n",
        "4.  The **Orchestrator** then calls `call_concierge_agent`, which retrieves the hotel data from the context.\n",
        "5.  The `concierge_agent` receives the request and decides it needs to use its own tool, the `food_critic_agent`.\n",
        "6.  The `food_critic_agent` provides a witty recommendation.\n",
        "7.  The `concierge_agent` gets the critic's response and politely formats it.\n",
        "8.  This final, polished response is returned to the **Orchestrator**, which presents it to the user."
      ],
      "metadata": {
        "id": "U5J4pMZDlLq9"
      },
      "id": "U5J4pMZDlLq9"
    },
    {
      "cell_type": "markdown",
      "source": [
        "                         +-----------------------------------------------------------+\n",
        "                         |              🧭 Trip Data Concierge Agent                 |\n",
        "                         |-----------------------------------------------------------|\n",
        "                         |  Model: gemini-2.5-flash                                  |\n",
        "                         |  Description:                                             |\n",
        "                         |   Orchestrates database query and travel recommendation  |\n",
        "                         |-----------------------------------------------------------|\n",
        "                         |  🔧 Tools:                                                |\n",
        "                         |   1. call_db_agent                                        |\n",
        "                         |   2. call_concierge_agent                                 |\n",
        "                         +-----------------------------------------------------------+\n",
        "                                      /                                \\\n",
        "                                     /                                  \\\n",
        "                                    ▼                                    ▼\n",
        "        +-------------------------------------------+    +---------------------------------------------+\n",
        "        |            🔧 Tool: call_db_agent         |    |         🔧 Tool: call_concierge_agent        |\n",
        "        |-------------------------------------------|    |---------------------------------------------|\n",
        "        | Calls: db_agent                           |    | Calls: concierge_agent                       |\n",
        "        |                                           |    | Uses data from db_agent for recommendations |\n",
        "        +-------------------------------------------+    +---------------------------------------------+\n",
        "                                |                                          |\n",
        "                                ▼                                          ▼\n",
        "       +--------------------------------------------+   +------------------------------------------------+\n",
        "       |              📦 db_agent                   |   |             🤵 concierge_agent                  |\n",
        "       |--------------------------------------------|   |------------------------------------------------|\n",
        "       | Model: gemini-2.5-flash                    |   | Model: gemini-2.5-flash                         |\n",
        "       | Role: Return mock JSON hotel data          |   | Role: Hotel staff that handles user Q&A        |\n",
        "       +--------------------------------------------+   | Tools:                                          |\n",
        "                                                         |  - food_critic_agent                           |\n",
        "                                                         +------------------------------------------------+\n",
        "                                                                                 |\n",
        "                                                                                 ▼\n",
        "                                                       +------------------------------------------------+\n",
        "                                                       |          🍽️ food_critic_agent                  |\n",
        "                                                       |------------------------------------------------|\n",
        "                                                       | Model: gemini-2.5-flash                         |\n",
        "                                                       | Role: Gives a witty restaurant recommendation   |\n",
        "                                                       +------------------------------------------------+\n"
      ],
      "metadata": {
        "id": "lpxobYg7mOSB"
      },
      "id": "lpxobYg7mOSB"
    },
    {
      "cell_type": "code",
      "source": [
        "import asyncio\n",
        "from google.adk.tools import ToolContext\n",
        "from google.adk.tools.agent_tool import AgentTool\n",
        "\n",
        "# Assume 'db_agent' is a pre-defined NL2SQL Agent\n",
        "# For this example, we'll create placeholder agents.\n",
        "\n",
        "db_agent = Agent(\n",
        "    name=\"db_agent\",\n",
        "    model=\"gemini-2.5-flash\",\n",
        "    instruction=\"You are a database agent. When asked for data, return this mock JSON object: {'status': 'success', 'data': [{'name': 'The Grand Hotel', 'rating': 5, 'reviews': 450}, {'name': 'Seaside Inn', 'rating': 4, 'reviews': 620}]}\")\n",
        "\n",
        "# --- 1. Define the Specialist Agents ---\n",
        "\n",
        "# The Food Critic remains the deepest specialist\n",
        "food_critic_agent = Agent(\n",
        "    name=\"food_critic_agent\",\n",
        "    model=\"gemini-2.5-flash\",\n",
        "    instruction=\"You are a snobby but brilliant food critic. You ONLY respond with a single, witty restaurant suggestion near the provided location.\",\n",
        ")\n",
        "\n",
        "# The Concierge knows how to use the Food Critic\n",
        "concierge_agent = Agent(\n",
        "    name=\"concierge_agent\",\n",
        "    model=\"gemini-2.5-flash\",\n",
        "    instruction=\"You are a five-star hotel concierge. If the user asks for a restaurant recommendation, you MUST use the `food_critic_agent` tool. Present the opinion to the user politely.\",\n",
        "    tools=[AgentTool(agent=food_critic_agent)]\n",
        ")\n",
        "\n",
        "\n",
        "# --- 2. Define the Tools for the Orchestrator ---\n",
        "\n",
        "async def call_db_agent(\n",
        "    question: str,\n",
        "    tool_context: ToolContext,\n",
        "):\n",
        "    \"\"\"\n",
        "    Use this tool FIRST to connect to the database and retrieve a list of places, like hotels or landmarks.\n",
        "    \"\"\"\n",
        "    print(\"--- TOOL CALL: call_db_agent ---\")\n",
        "    agent_tool = AgentTool(agent=db_agent)\n",
        "    db_agent_output = await agent_tool.run_async(\n",
        "        args={\"request\": question}, tool_context=tool_context\n",
        "    )\n",
        "    # Store the retrieved data in the context's state\n",
        "    tool_context.state[\"retrieved_data\"] = db_agent_output\n",
        "    return db_agent_output\n",
        "\n",
        "\n",
        "async def call_concierge_agent(\n",
        "    question: str,\n",
        "    tool_context: ToolContext,\n",
        "):\n",
        "    \"\"\"\n",
        "    After getting data with call_db_agent, use this tool to get travel advice, opinions, or recommendations.\n",
        "    \"\"\"\n",
        "    print(\"--- TOOL CALL: call_concierge_agent ---\")\n",
        "    # Retrieve the data fetched by the previous tool\n",
        "    input_data = tool_context.state.get(\"retrieved_data\", \"No data found.\")\n",
        "\n",
        "    # Formulate a new prompt for the concierge, giving it the data context\n",
        "    question_with_data = f\"\"\"\n",
        "    Context: The database returned the following data: {input_data}\n",
        "\n",
        "    User's Request: {question}\n",
        "    \"\"\"\n",
        "\n",
        "    agent_tool = AgentTool(agent=concierge_agent)\n",
        "    concierge_output = await agent_tool.run_async(\n",
        "        args={\"request\": question_with_data}, tool_context=tool_context\n",
        "    )\n",
        "    return concierge_output\n",
        "\n",
        "\n",
        "# --- 3. Define the Top-Level Orchestrator Agent ---\n",
        "\n",
        "trip_data_concierge_agent = Agent(\n",
        "    name=\"trip_data_concierge\",\n",
        "    model=\"gemini-2.5-flash\",\n",
        "    description=\"Top-level agent that queries a database for travel data, then calls a concierge agent for recommendations.\",\n",
        "    tools=[call_db_agent, call_concierge_agent],\n",
        "    instruction=\"\"\"\n",
        "    You are a master travel planner who uses data to make recommendations.\n",
        "\n",
        "    1.  **ALWAYS start with the `call_db_agent` tool** to fetch a list of places (like hotels) that match the user's criteria.\n",
        "\n",
        "    2.  After you have the data, **use the `call_concierge_agent` tool** to answer any follow-up questions for recommendations, opinions, or advice related to the data you just found.\n",
        "    \"\"\",\n",
        ")\n",
        "\n",
        "print(f\"✅ Orchestrator Agent '{trip_data_concierge_agent.name}' is defined and ready.\")"
      ],
      "metadata": {
        "id": "LHAKKcmvgQKs"
      },
      "id": "LHAKKcmvgQKs",
      "execution_count": null,
      "outputs": []
    },
    {
      "cell_type": "code",
      "source": [
        "# --- Let's test the Trip Data Concierge Agent ---\n",
        "\n",
        "async def run_trip_data_concierge():\n",
        "    \"\"\"\n",
        "    Sets up a session and runs a query against the top-level\n",
        "    trip_data_concierge_agent.\n",
        "    \"\"\"\n",
        "    # Create a new, single-use session for this query\n",
        "    concierge_session = await session_service.create_session(\n",
        "        app_name=trip_data_concierge_agent.name,\n",
        "        user_id=my_user_id\n",
        "    )\n",
        "\n",
        "    # This query is specifically designed to trigger the full two-step process:\n",
        "    # 1. Get data from the db_agent.\n",
        "    # 2. Get a recommendation from the concierge_agent based on that data.\n",
        "    query = \"Find the top-rated hotels in San Francisco from the database, then suggest a dinner spot near the one with the most reviews.\"\n",
        "    print(f\"🗣️ User Query: '{query}'\")\n",
        "\n",
        "    # We call our existing helper function with the top-level orchestrator agent\n",
        "    await run_agent_query(trip_data_concierge_agent, query, concierge_session, my_user_id)\n",
        "\n",
        "# Run the test\n",
        "await run_trip_data_concierge()"
      ],
      "metadata": {
        "id": "9jLyDQA1hTc-"
      },
      "id": "9jLyDQA1hTc-",
      "execution_count": null,
      "outputs": []
    },
    {
      "cell_type": "markdown",
      "metadata": {
        "id": "h75-37LLiuRM"
      },
      "source": [
        "---\n",
        "## Part 3: Agent with a Memory - The Adaptive Planner 🗺️\n",
        "\n",
        "Now, let's see an agent that not only **remembers** but also **adapts**. We'll challenge the `multi_day_trip_agent` to re-plan part of its itinerary based on our feedback. This is a much more realistic test of conversational AI."
      ],
      "id": "h75-37LLiuRM"
    },
    {
      "cell_type": "markdown",
      "source": [
        "```\n",
        "+-----------------------------------------------------+\n",
        "|         Adaptive Multi-Day Trip Agent 🗺️           |\n",
        "|-----------------------------------------------------|\n",
        "|  Model: gemini-2.5-flash                            |\n",
        "|  Description:                                       |\n",
        "|   Builds multi-day travel itineraries step-by-step, |\n",
        "|   remembers previous days, adapts to feedback       |\n",
        "|-----------------------------------------------------|\n",
        "|  🔧 Tools:                                          |\n",
        "|   - Google Search                                   |\n",
        "|-----------------------------------------------------|\n",
        "|  🧠 Capabilities:                                   |\n",
        "|   - Memory of past conversation & preferences       |\n",
        "|   - Progressive planning (1 day at a time)          |\n",
        "|   - Adapts to user feedback                         |\n",
        "|   - Ensures activity variety across days            |\n",
        "+-----------------------------------------------------+\n",
        "\n",
        "            ▲\n",
        "            |\n",
        "    +---------------------------+\n",
        "    |     User Interaction      |\n",
        "    |---------------------------|\n",
        "    | - Destination             |\n",
        "    | - Trip duration           |\n",
        "    | - Interests & feedback    |\n",
        "    +---------------------------+\n",
        "\n",
        "            |\n",
        "            ▼\n",
        "\n",
        "+-----------------------------------------------------+\n",
        "|        Day-by-Day Itinerary Generation              |\n",
        "|-----------------------------------------------------|\n",
        "|  🗓️ Day N Output (Markdown format):                 |\n",
        "|   - Morning / Afternoon / Evening activities        |\n",
        "|   - Personalized & context-aware                    |\n",
        "|   - Changes accepted, feedback acknowledged         |\n",
        "+-----------------------------------------------------+\n",
        "\n",
        "            |\n",
        "            ▼\n",
        "\n",
        "+-----------------------------------------------------+\n",
        "|        Next Day Planning Triggered 🚀               |\n",
        "|-----------------------------------------------------|\n",
        "| - Builds on prior days                              |\n",
        "| - Avoids repetition                                 |\n",
        "| - Asks user for confirmation before proceeding      |\n",
        "+-----------------------------------------------------+\n",
        "```\n"
      ],
      "metadata": {
        "id": "nDBqGvEnwnxt"
      },
      "id": "nDBqGvEnwnxt"
    },
    {
      "cell_type": "code",
      "execution_count": null,
      "metadata": {
        "id": "Xd0SUvnjiuRM"
      },
      "outputs": [],
      "source": [
        "# --- Agent Definition: The Adaptive Planner ---\n",
        "\n",
        "def create_multi_day_trip_agent():\n",
        "    \"\"\"Create the Progressive Multi-Day Trip Planner agent\"\"\"\n",
        "    return Agent(\n",
        "        name=\"multi_day_trip_agent\",\n",
        "        model=\"gemini-2.5-flash\",\n",
        "        description=\"Agent that progressively plans a multi-day trip, remembering previous days and adapting to user feedback.\",\n",
        "        instruction=\"\"\"\n",
        "        You are the \"Adaptive Trip Planner\" 🗺️ - an AI assistant that builds multi-day travel itineraries step-by-step.\n",
        "\n",
        "        Your Defining Feature:\n",
        "        You have short-term memory. You MUST refer back to our conversation to understand the trip's context, what has already been planned, and the user's preferences. If the user asks for a change, you must adapt the plan while keeping the unchanged parts consistent.\n",
        "\n",
        "        Your Mission:\n",
        "        1.  **Initiate**: Start by asking for the destination, trip duration, and interests.\n",
        "        2.  **Plan Progressively**: Plan ONLY ONE DAY at a time. After presenting a plan, ask for confirmation.\n",
        "        3.  **Handle Feedback**: If a user dislikes a suggestion (e.g., \"I don't like museums\"), acknowledge their feedback, and provide a *new, alternative* suggestion for that time slot that still fits the overall theme.\n",
        "        4.  **Maintain Context**: For each new day, ensure the activities are unique and build logically on the previous days. Do not suggest the same things repeatedly.\n",
        "        5.  **Final Output**: Return each day's itinerary in MARKDOWN format.\n",
        "        \"\"\",\n",
        "        tools=[google_search]\n",
        "    )\n",
        "\n",
        "multi_day_agent = create_multi_day_trip_agent()\n",
        "print(f\"🗺️ Agent '{multi_day_agent.name}' is created and ready to plan and adapt!\")"
      ],
      "id": "Xd0SUvnjiuRM"
    },
    {
      "cell_type": "markdown",
      "source": [
        "### Scenario 3a: Agent WITH Memory (Using a SINGLE Session) ✅\n",
        "\n",
        "First, let's see the correct way to do it. We will use the **exact same `trip_session` object** for the entire conversation. Watch how the agent remembers the context from Turn 1 to correctly handle the requests in Turn 2 and 3."
      ],
      "metadata": {
        "id": "y3OEHGOsmwVs"
      },
      "id": "y3OEHGOsmwVs"
    },
    {
      "cell_type": "code",
      "execution_count": null,
      "metadata": {
        "id": "z2mDXEA8iuRM"
      },
      "outputs": [],
      "source": [
        "# --- Scenario 2: Testing Adaptation and Memory ---\n",
        "\n",
        "async def run_adaptive_memory_demonstration():\n",
        "    print(\"### 🧠 DEMO 2: AGENT THAT ADAPTS (SAME SESSION) ###\")\n",
        "\n",
        "    # Create ONE session that we will reuse for the whole conversation\n",
        "    trip_session = await session_service.create_session(\n",
        "        app_name=multi_day_agent.name,\n",
        "        user_id=my_user_id\n",
        "    )\n",
        "    print(f\"Created a single session for our trip: {trip_session.id}\")\n",
        "\n",
        "    # --- Turn 1: The user initiates the trip ---\n",
        "    query1 = \"Hi! I want to plan a 2-day trip to Lisbon, Portugal. I'm interested in historic sites and great local food.\"\n",
        "    print(f\"\\n🗣️ User (Turn 1): '{query1}'\")\n",
        "    await run_agent_query(multi_day_agent, query1, trip_session, my_user_id)\n",
        "\n",
        "    # --- Turn 2: The user gives FEEDBACK and asks for a CHANGE ---\n",
        "    # We use the EXACT SAME `trip_session` object!\n",
        "    query2 = \"That sounds pretty good, but I'm not a huge fan of castles. Can you replace the morning activity for Day 1 with something else historical?\"\n",
        "    print(f\"\\n🗣️ User (Turn 2 - Feedback): '{query2}'\")\n",
        "    await run_agent_query(multi_day_agent, query2, trip_session, my_user_id)\n",
        "\n",
        "    # --- Turn 3: The user confirms and asks to continue ---\n",
        "    query3 = \"Yes, the new plan for Day 1 is perfect! Please plan Day 2 now, keeping the food theme in mind.\"\n",
        "    print(f\"\\n🗣️ User (Turn 3 - Confirmation): '{query3}'\")\n",
        "    await run_agent_query(multi_day_agent, query3, trip_session, my_user_id)\n",
        "\n",
        "await run_adaptive_memory_demonstration()"
      ],
      "id": "z2mDXEA8iuRM"
    },
    {
      "cell_type": "markdown",
      "source": [
        "### Scenario 3b: Agent WITHOUT Memory (Using SEPARATE Sessions) ❌\n",
        "\n",
        "Now, let's see what happens if we mess up our session management. Here, we'll give the agent a case of amnesia by creating a **brand new, separate session for each turn**.\n",
        "\n",
        "Pay close attention to the agent's response to the second query. Because it's in a new session, it has no memory of the trip to Lisbon we just discussed!"
      ],
      "metadata": {
        "id": "9yBZUjlvmkVR"
      },
      "id": "9yBZUjlvmkVR"
    },
    {
      "cell_type": "code",
      "source": [
        "# --- Scenario 2b: Demonstrating Memory FAILURE ---\n",
        "\n",
        "async def run_memory_failure_demonstration():\n",
        "    print(\"\\n\" + \"#\"*60)\n",
        "    print(\"### 🧠 DEMO 2b: AGENT WITH AMNESIA (SEPARATE SESSIONS) ###\")\n",
        "    print(\"#\"*60)\n",
        "\n",
        "    # --- Turn 1: The user initiates the trip in the FIRST session ---\n",
        "    query1 = \"Hi! I want to plan a 2-day trip to Lisbon, Portugal. I'm interested in historic sites and great local food.\"\n",
        "    session_one = await session_service.create_session(\n",
        "        app_name=multi_day_agent.name,\n",
        "        user_id=my_user_id\n",
        "    )\n",
        "    print(f\"\\nCreated a session for Turn 1: {session_one.id}\")\n",
        "    print(f\"🗣️ User (Turn 1): '{query1}'\")\n",
        "    await run_agent_query(multi_day_agent, query1, session_one, my_user_id)\n",
        "\n",
        "    # --- Turn 2: The user asks to continue... but in a completely NEW session ---\n",
        "    query2 = \"Yes, that looks perfect! Please plan Day 2.\"\n",
        "    session_two = await session_service.create_session(\n",
        "        app_name=multi_day_agent.name,\n",
        "        user_id=my_user_id\n",
        "    )\n",
        "    print(f\"\\nCreated a BRAND NEW session for Turn 2: {session_two.id}\")\n",
        "    print(f\"🗣️ User (Turn 2): '{query2}'\")\n",
        "    await run_agent_query(multi_day_agent, query2, session_two, my_user_id)\n",
        "\n",
        "await run_memory_failure_demonstration()"
      ],
      "metadata": {
        "id": "bIs87iFCm0Vg"
      },
      "id": "bIs87iFCm0Vg",
      "execution_count": null,
      "outputs": []
    },
    {
      "cell_type": "markdown",
      "source": [
        "See? The agent was confused! It likely asked what destination or what trip we were talking about. Because the second query was in a fresh, isolated session, the agent had no memory of planning Day 1 in Lisbon.\n",
        "\n",
        "This perfectly illustrates why **managing sessions is the key to building truly conversational agents!**"
      ],
      "metadata": {
        "id": "IG0wc6djm4kT"
      },
      "id": "IG0wc6djm4kT"
    },
    {
      "cell_type": "markdown",
      "metadata": {
        "id": "T2ErcoGhiuRN"
      },
      "source": [
        "---\n",
        "## 🎉 Congratulations! 🎉\n",
        "\n",
        "Congratulations on completing your ADK adventure into Tools and Memory! You've taken a massive leap from building single-shot agents to creating dynamic, stateful AI systems.\n",
        "\n",
        "Let's recap the powerful concepts you've mastered:\n",
        "\n",
        "- **Fundamental Agent & Tools**: You started by building a \"Day Trip Genie\" and equipped it with its first tool, GoogleSearch.\n",
        "\n",
        "- **Custom Function Tools**: You gave your agent a new sense by creating a custom tool to fetch live data from the U.S. National Weather Service API.\n",
        "\n",
        "- **Agent-as-a-Tool**: You orchestrated a sophisticated hierarchy where agents delegate tasks to other, more specialized agents, creating a collaborative team.\n",
        "\n",
        "- **The Power of Memory**: Most importantly, you saw firsthand how managing a single, persistent Session allows an agent to remember context, adapt to user feedback, and conduct a meaningful, multi-turn conversation."
      ],
      "id": "T2ErcoGhiuRN"
    },
    {
      "cell_type": "markdown",
      "source": [
        "```\n",
        "   __            /\\_/\\         /\\_/\\        /\\_/\\         __             (\\__/)\n",
        "o-''|\\_____/).  ( o.o )       ( -.- )      ( ^_^ )     o-''|\\_____/).    ( ^_^ )\n",
        " \\_/|_)     )    > ^ <         > * <        >💖<         \\_/|_)     )     / >🌸< \\\n",
        "    \\  __  /                                              \\  __  /         /   \\\n",
        "    (_/ (_/                                               (_/ (_/        (___|___)\n",
        "```\n"
      ],
      "metadata": {
        "id": "2oLP69mlyNN-"
      },
      "id": "2oLP69mlyNN-"
    }
  ],
  "metadata": {
    "colab": {
      "provenance": [],
      "include_colab_link": true
    },
    "kernelspec": {
      "display_name": "Python 3",
      "name": "python3"
    },
    "language_info": {
      "name": "python"
    }
  },
  "nbformat": 4,
  "nbformat_minor": 5
}